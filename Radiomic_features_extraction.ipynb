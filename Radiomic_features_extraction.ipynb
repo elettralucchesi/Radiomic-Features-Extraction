{
 "cells": [
  {
   "cell_type": "code",
   "id": "initial_id",
   "metadata": {
    "collapsed": true,
    "ExecuteTime": {
     "end_time": "2025-03-01T23:16:47.174435Z",
     "start_time": "2025-03-01T23:16:47.078058Z"
    }
   },
   "source": [
    "import image_mask_processing\n",
    "\n",
    "file_path = \"../Radiomic Features Extraction/data/*\"\n",
    "images_path, masks_path = image_mask_processing.get_path_images_masks(file_path)\n",
    "print(images_path, masks_path)"
   ],
   "outputs": [
    {
     "name": "stdout",
     "output_type": "stream",
     "text": [
      "['../Radiomic Features Extraction/data\\\\PR2\\\\PR2_T2W_TSE_AX.nii', '../Radiomic Features Extraction/data\\\\PR3\\\\PR3_AX_FSE_T2_3_mm.nii'] ['../Radiomic Features Extraction/data\\\\PR2\\\\PR2_T2W_TSE_AX_seg.nii', '../Radiomic Features Extraction/data\\\\PR3\\\\PR3_AX_FSE_T2_3_mm_seg.nii']\n"
     ]
    }
   ],
   "execution_count": 8
  },
  {
   "metadata": {
    "ExecuteTime": {
     "end_time": "2025-03-01T23:10:25.149578Z",
     "start_time": "2025-03-01T23:10:25.144695Z"
    }
   },
   "cell_type": "code",
   "source": "",
   "id": "6aba9f2d4257e612",
   "outputs": [],
   "execution_count": null
  }
 ],
 "metadata": {
  "kernelspec": {
   "display_name": "Python 3",
   "language": "python",
   "name": "python3"
  },
  "language_info": {
   "codemirror_mode": {
    "name": "ipython",
    "version": 2
   },
   "file_extension": ".py",
   "mimetype": "text/x-python",
   "name": "python",
   "nbconvert_exporter": "python",
   "pygments_lexer": "ipython2",
   "version": "2.7.6"
  }
 },
 "nbformat": 4,
 "nbformat_minor": 5
}
